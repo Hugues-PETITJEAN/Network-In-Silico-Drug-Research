import networkx as nx
import matplotlib.pyplot as plt
import random

# Création du graph
G = nx.Graph()

# Ajout des gènes, molécules, et effets
genes = [f"gene{i}" for i in range(1, 11)]
molecules = [f"molecule{i}" for i in range(1, 11)]
effects = [f"effet{i}" for i in range(1, 11)]

G.add_nodes_from(genes, type='gene')
G.add_nodes_from(molecules, type='molecule')
G.add_nodes_from(effects, type='effet')

# Ajout des liens aléatoires
for gene in genes:
    G.add_edges_from([(gene, random.choice(molecules)) for _ in range(random.randint(1, 3))])

for molecule in molecules:
    G.add_edges_from([(molecule, random.choice(effects)) for _ in range(random.randint(1, 3))])

# Visualisation
pos = nx.spring_layout(G)  # Positionnement des noeuds
nx.draw_networkx_nodes(G, pos, nodelist=genes, node_color='red')
nx.draw_networkx_nodes(G, pos, nodelist=molecules, node_color='blue')
nx.draw_networkx_nodes(G, pos, nodelist=effects, node_color='green')
nx.draw_networkx_edges(G, pos)
nx.draw_networkx_labels(G, pos)
plt.show()
